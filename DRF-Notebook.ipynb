{
 "cells": [
  {
   "cell_type": "markdown",
   "metadata": {},
   "source": [
    "<img src=\"https://files.realpython.com/media/djang-rest-framework-logo.37921ea75c09.png\">\n",
    "\n",
    "# Django-Rest-Framework -RestApi\n",
    "\n",
    "## <a href=\"https://www.django-rest-framework.org/topics/documenting-your-api/\" title=”Wikipedia”>OFFICAL DOCS</a> \n",
    "\n",
    "\n",
    "\n"
   ]
  },
  {
   "cell_type": "markdown",
   "metadata": {},
   "source": [
    "Create Project <br>\n",
    "\n",
    "####  django-admin startproject  [projectname]\n",
    "\n",
    "Create app\n",
    "\n",
    "####  python manage.py startapp [appname]"
   ]
  },
  {
   "cell_type": "markdown",
   "metadata": {},
   "source": [
    "projectname/<br>\n",
    "├── projectname/<br>\n",
    "│   ├── __init__.py<br>\n",
    "│   ├── settings.py<br>\n",
    "│   ├── urls.py<br>\n",
    "│   └── wsgi.py<br>\n",
    "└── manage.py<br>"
   ]
  },
  {
   "cell_type": "markdown",
   "metadata": {},
   "source": [
    "#### Django folder Structure"
   ]
  },
  {
   "cell_type": "markdown",
   "metadata": {},
   "source": [
    "<img src=\"https://studygyaan.com/wp-content/uploads/2019/07/Best-Practice-to-Structure-Django-Project-Directories-and-Files-1024x676.png\">"
   ]
  },
  {
   "cell_type": "markdown",
   "metadata": {},
   "source": [
    "## Developement Server"
   ]
  },
  {
   "cell_type": "markdown",
   "metadata": {},
   "source": [
    "cd mysite <br>\n",
    "python manage.py runserver"
   ]
  },
  {
   "cell_type": "markdown",
   "metadata": {},
   "source": [
    "<span style=\"color:red\">setting.py</span>"
   ]
  },
  {
   "cell_type": "markdown",
   "metadata": {},
   "source": [
    "```python\n",
    "\n",
    "INSTALLED_APPS = (\n",
    "    'django.contrib.admin',\n",
    "    'django.contrib.auth',\n",
    "    'django.contrib.contenttypes',\n",
    "    'django.contrib.sessions',\n",
    "    'django.contrib.messages',\n",
    "    'django.contrib.staticfiles',\n",
    "    'talk',\n",
    "    'rest_framework' # added \n",
    ")\n",
    "```"
   ]
  },
  {
   "cell_type": "markdown",
   "metadata": {},
   "source": [
    "<ul>\n",
    " <li>MODELS</li>\n",
    " <li>ADMIN</li>\n",
    " <li>URL</li>\n",
    " </ul>"
   ]
  },
  {
   "cell_type": "markdown",
   "metadata": {},
   "source": [
    "## Model\n",
    "\n",
    "> app/models.py"
   ]
  },
  {
   "cell_type": "markdown",
   "metadata": {},
   "source": [
    "Reference :<br>\n",
    "<a href=\"https://docs.djangoproject.com/en/3.0/topics/db/models/\" title=”Wikipedia”>OFFICAL Django Model Docs</a> <br>\n",
    "<a href=\"https://tutorial.djangogirls.org/en/django_models/\" title=”Wikipedia”>Below Code Explain </a> <br>\n",
    "\n"
   ]
  },
  {
   "cell_type": "markdown",
   "metadata": {},
   "source": [
    "``` python \n",
    "from django.db import models\n",
    "\n",
    "# Create your models here.\n",
    "class Detail(models.Model):\n",
    "    name = models.CharField(max_length=50)\n",
    "    email = models.CharField(max_length=100)\n",
    "    mobile = models.IntegerField()\n",
    "    GENDER_CHOICES = (\n",
    "        ('M', 'Male'),\n",
    "        ('F', 'Female'),\n",
    "    )\n",
    "    gender = models.CharField(max_length=1, choices=GENDER_CHOICES)\n",
    "    Image = models.ImageField(default=\"\",)\n",
    "    \n",
    "\n",
    "    ```"
   ]
  },
  {
   "cell_type": "markdown",
   "metadata": {},
   "source": [
    "## Admin"
   ]
  },
  {
   "cell_type": "markdown",
   "metadata": {},
   "source": [
    "To add, edit and delete the posts we've just modeled, we will use Django admin\n",
    "\n",
    "In app/admin.py"
   ]
  },
  {
   "cell_type": "markdown",
   "metadata": {},
   "source": [
    "``` python \n",
    "from django.contrib import admin\n",
    "from .models import Post\n",
    "\n",
    "admin.site.register(Detail)\n",
    "```"
   ]
  },
  {
   "cell_type": "markdown",
   "metadata": {},
   "source": [
    "<img src=\"https://tutorial.djangogirls.org/en/django_admin/images/login_page2.png\">"
   ]
  },
  {
   "cell_type": "markdown",
   "metadata": {},
   "source": [
    "### Create a user for admin \n",
    "\n",
    " >> **Python manage.py createsuperuser**"
   ]
  },
  {
   "cell_type": "markdown",
   "metadata": {},
   "source": [
    "<img src=\"https://tutorial.djangogirls.org/en/django_admin/images/django_admin3.png\">"
   ]
  },
  {
   "cell_type": "markdown",
   "metadata": {},
   "source": [
    "<hr>\n",
    "If you want to know more about Django admin, you should check Django's documentation: <a href=\"https://docs.djangoproject.com/en/3.0/ref/contrib/admin/\" title=”Wikipedia”>CLICK HERE</a> \n",
    "\n"
   ]
  },
  {
   "cell_type": "markdown",
   "metadata": {},
   "source": [
    "# <a href=\"https://tutorial.djangogirls.org/en/deploy/\" title=”Wikipedia”>DEPLOY </a> \n"
   ]
  },
  {
   "cell_type": "markdown",
   "metadata": {},
   "source": [
    "# # What is  URL ?"
   ]
  },
  {
   "cell_type": "markdown",
   "metadata": {},
   "source": [
    "<img src=\"https://tutorial.djangogirls.org/en/django_urls/images/url.png\">"
   ]
  },
  {
   "cell_type": "markdown",
   "metadata": {},
   "source": [
    "```python \n",
    "\n",
    "Project-name/urls.py\n",
    "\n",
    "from django.contrib import admin\n",
    "from django.urls import path, include\n",
    "\n",
    "urlpatterns = [\n",
    "    path('admin/', admin.site.urls),\n",
    "    path('', include('app.urls')),\n",
    "]\n",
    "```\n",
    "Django will now redirect everything that comes into 'http://127.0.0.1:8000/' to app.urls\n",
    "\n",
    "  ```python \n",
    "\n",
    "app/urls.py\n",
    "\n",
    "from django.urls import path\n",
    "from . import views\n",
    "\n",
    "urlpatterns = [\n",
    "    path('', views.post_list, name='post_list'),\n",
    "]\n",
    "```"
   ]
  },
  {
   "cell_type": "markdown",
   "metadata": {},
   "source": [
    "# Serailizers\n",
    "\n",
    "\n",
    "**Serializers allow complex data such as querysets and model instances to be converted to native Python datatypes that can then be easily rendered into JSON, XML or other content types**\n",
    "\n",
    "Wanna Know more <a href=\"https://www.django-rest-framework.org/api-guide/serializers/\">Click Here</a>"
   ]
  },
  {
   "cell_type": "markdown",
   "metadata": {},
   "source": [
    "```python \n",
    "app/serailizers.py \n",
    "\n",
    "from rest_framework import serializers\n",
    "from .models import Detail\n",
    "\n",
    "class DetailSerializer(serializers.ModelSerializer):\n",
    "    class Meta:\n",
    "        model = Detail\n",
    "        fields = '__all__'\n",
    "        extra_kwargs = {'mobile': {'write_only': False}}\n",
    "        \n",
    "       ```        "
   ]
  },
  {
   "cell_type": "markdown",
   "metadata": {},
   "source": [
    "# Viewsets\n",
    "\n",
    "** **\n",
    "\n",
    "**Django REST framework allows you to combine the logic for a set of related views in a single class, called a ViewSet. In other frameworks you may also find conceptually similar implementations named something like 'Resources' or 'Controllers'**\n",
    "\n",
    "<a href=\"https://www.django-rest-framework.org/api-guide/viewsets/\">Viewsets Docs</a>"
   ]
  },
  {
   "cell_type": "markdown",
   "metadata": {},
   "source": [
    "```python \n",
    "from rest_framework import viewsets\n",
    "from rest_framework.permissions import IsAuthenticated\n",
    "from rest_framework.authentication import BasicAuthentication\n",
    "from rest_framework.authentication import SessionAuthentication,TokenAuthentication\n",
    "from . import models\n",
    "from . import serializers\n",
    "#from django.views.decorators.csrf import csrf_exempt\n",
    "#@csrf_exempt\n",
    "class DetailViewset(viewsets.ModelViewSet):\n",
    "    #authentication_classes = [SessionAuthentication,BasicAuthentication]\n",
    "    #authentication_classes = [TokenAuthentication]\n",
    "    #permission_classes = [IsAuthenticated]\n",
    "    queryset = models.Detail.objects.all()\n",
    "    serializer_class = serializers.DetailSerializer\n",
    "    \n",
    "\n",
    "```"
   ]
  },
  {
   "cell_type": "markdown",
   "metadata": {},
   "source": [
    "# Routers\n",
    "****\n",
    "\n",
    "**REST framework adds support for automatic URL routing to Django, and provides you with a simple, quick and consistent way of wiring your view logic to a set of URLs.**"
   ]
  },
  {
   "cell_type": "markdown",
   "metadata": {},
   "source": [
    "``` python\n",
    "project_name/router.py\n",
    "\n",
    "from profile_app.viewsets import DetailViewset\n",
    "from rest_framework import routers\n",
    "\n",
    "router = routers.DefaultRouter()\n",
    "router.register('user',DetailViewset)\n",
    "\n",
    "```"
   ]
  },
  {
   "cell_type": "markdown",
   "metadata": {},
   "source": [
    "<img src=\"https://i.pinimg.com/originals/3f/6e/c4/3f6ec446dd918554f22b774dbd5927c3.png\">"
   ]
  },
  {
   "cell_type": "code",
   "execution_count": null,
   "metadata": {},
   "outputs": [],
   "source": []
  }
 ],
 "metadata": {
  "kernelspec": {
   "display_name": "Python 3",
   "language": "python",
   "name": "python3"
  },
  "language_info": {
   "codemirror_mode": {
    "name": "ipython",
    "version": 3
   },
   "file_extension": ".py",
   "mimetype": "text/x-python",
   "name": "python",
   "nbconvert_exporter": "python",
   "pygments_lexer": "ipython3",
   "version": "3.7.5"
  }
 },
 "nbformat": 4,
 "nbformat_minor": 2
}
